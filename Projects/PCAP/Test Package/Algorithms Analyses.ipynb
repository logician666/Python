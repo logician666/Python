{
 "cells": [
  {
   "cell_type": "markdown",
   "source": [
    "For every character in the provided word we check if that character:\n",
    "1. exists in the provided sentence, and\n",
    "2. doesn't preceed the previously serached and found character."
   ],
   "metadata": {}
  },
  {
   "cell_type": "markdown",
   "source": [
    "```\n",
    "Procedure:\n",
    "input word, sentence\n",
    "last_index := 0\n",
    "for c in word:\n",
    "    if _ := sentence.find(c, last_index + 1) != -1:\n",
    "        last_index := _\n",
    "        continue\n",
    "    else:\n",
    "        return False; break\n",
    "return True\n",
    "\n",
    "\n",
    "\n",
    "\n",
    "```"
   ],
   "metadata": {}
  },
  {
   "cell_type": "markdown",
   "source": [
    "---"
   ],
   "metadata": {}
  },
  {
   "cell_type": "markdown",
   "source": [
    "For a suduko submission to be valid all of the following should be stated:\n",
    "* each row of the board must contain all digits from 0 to 9 (the order doesn't matter)\n",
    "* each column of the board must contain all digits from 0 to 9 (again, the order doesn't matter)\n",
    "* each of the nine 3x3 \"tiles\" (we will name them \"sub-squares\") of the table must contain all digits from 0 to 9.\n",
    "\n",
    "For if at least on of these conditions is not met, the submission is verdicted upon as invalid.\n",
    "\n",
    "Upon reading the data from the user, "
   ],
   "metadata": {}
  }
 ],
 "metadata": {
  "orig_nbformat": 4,
  "language_info": {
   "name": "python"
  }
 },
 "nbformat": 4,
 "nbformat_minor": 2
}